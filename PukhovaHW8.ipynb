{
  "nbformat": 4,
  "nbformat_minor": 0,
  "metadata": {
    "colab": {
      "provenance": [],
      "collapsed_sections": [],
      "include_colab_link": true
    },
    "kernelspec": {
      "name": "python3",
      "display_name": "Python 3"
    },
    "language_info": {
      "name": "python"
    }
  },
  "cells": [
    {
      "cell_type": "markdown",
      "metadata": {
        "id": "view-in-github",
        "colab_type": "text"
      },
      "source": [
        "<a href=\"https://colab.research.google.com/github/Fluffstassy/HW_8/blob/main/PukhovaHW8.ipynb\" target=\"_parent\"><img src=\"https://colab.research.google.com/assets/colab-badge.svg\" alt=\"Open In Colab\"/></a>"
      ]
    },
    {
      "cell_type": "markdown",
      "source": [
        "# Домашнее задание к лекции «Регулярные выражения и основы синтаксического разбора»"
      ],
      "metadata": {
        "id": "en6MilBoGktM"
      }
    },
    {
      "cell_type": "markdown",
      "source": [
        "# Задание 1\n",
        "Напишите функцию, которая принимает на вход строку и проверяет является ли она валидным транспортным номером (1 буква, 3 цифры, 2 буквы, 2-3 цифры). Обратите внимание, что не все буквы кириллического алфавита используются в транспортных номерах.\n",
        "\n",
        "Если номер валиден, то функция должна возвращать отдельно номер и регион."
      ],
      "metadata": {
        "id": "x6568k-4urRy"
      }
    },
    {
      "cell_type": "code",
      "execution_count": null,
      "metadata": {
        "id": "drrPJOynulUu"
      },
      "outputs": [],
      "source": [
        "import re\n",
        "number_car = input('Введите гос номер')\n",
        "def print_num_reg(number_car):\n",
        "    regex_number = r'([АВЕКМНОРСТУХ]\\d{3}[АВЕКМНОРСТУХ]{2})(\\d{2,3})'\n",
        "    result = re.match(regex_number, number_car)\n",
        "    if result:\n",
        "        print(f'Номер {result.group(1)} валиден. Регион: {result.group(2)}')\n",
        "    else:\n",
        "        print('Номер не валиден')\n",
        "\n",
        "print_num_reg(number_car)"
      ]
    },
    {
      "cell_type": "markdown",
      "source": [
        "# Задание 2\n",
        "Напишите функцию, которая будет удалять все последовательные повторы слов из заданной строки при помощи регулярных выражений."
      ],
      "metadata": {
        "id": "6bFP7F-f0Ig7"
      }
    },
    {
      "cell_type": "code",
      "source": [
        "def regex_replay(string):\n",
        "    regex = r'(.+?)\\1+'\n",
        "    result = re.sub(regex, r'\\1',string)\n",
        "    return result\n",
        "regex_replay('Напишите функцию функцию, которая будет будет будет будет удалять все все все все последовательные повторы слов из из из из заданной строки строки при помощи регулярных выражений.')"
      ],
      "metadata": {
        "id": "jgD4xAu80Isi"
      },
      "execution_count": null,
      "outputs": []
    },
    {
      "cell_type": "markdown",
      "source": [
        "# Задание 3\n",
        "Напишите функцию, которая будет возвращать акроним по переданной в нее строке со словами."
      ],
      "metadata": {
        "id": "tvoiYlnz0h0j"
      }
    },
    {
      "cell_type": "code",
      "source": [
        "import re\n",
        "print_str = input()\n",
        "def print_acronym(string):\n",
        "    regex = r'(\\b\\w)'\n",
        "    list_find = re.findall(regex, string)\n",
        "    str_find = ''.join(list_find)\n",
        "    return (str_find)\n",
        "print_acronym(print_str)"
      ],
      "metadata": {
        "id": "Qs7PmynW0h-y"
      },
      "execution_count": null,
      "outputs": []
    },
    {
      "cell_type": "markdown",
      "source": [
        "# Задание 4\n",
        "Напишите функцию, которая будет принимать на вход список email-адресов и выводить их распределение по доменным зонам."
      ],
      "metadata": {
        "id": "THQIZ6VL0tMc"
      }
    },
    {
      "cell_type": "code",
      "source": [
        "import re\n",
        "\n",
        "emails = ['test@gmail.com', 'xyz@test.in', 'test@ya.ru', 'xyz@mail.ru', 'xyz@ya.ru', 'xyz@gmail.com']\n",
        "\n",
        "result = {}\n",
        "\n",
        "for i in emails:\n",
        "    a, b = i.split('@')\n",
        "    result[b] = result.get(b, 0) + 1\n",
        "\n",
        "print(result)"
      ],
      "metadata": {
        "id": "0MDBdzAbyI3S"
      },
      "execution_count": null,
      "outputs": []
    }
  ]
}